{
 "cells": [
  {
   "cell_type": "markdown",
   "metadata": {},
   "source": [
    "## Drew Hart\n",
    "#### 12/04/19\n",
    "\n",
    "Trying, for the first time, to do something with one of my research projects in Julia."
   ]
  },
  {
   "cell_type": "code",
   "execution_count": 2,
   "metadata": {},
   "outputs": [],
   "source": [
    "using ArchGDAL; const AG = ArchGDAL\n",
    "using NetCDF; const NC = NetCDF\n",
    "using BenchmarkTools\n",
    "using Colors\n",
    "using Images\n",
    "using Plots\n",
    "using ImageView"
   ]
  },
  {
   "cell_type": "code",
   "execution_count": 3,
   "metadata": {},
   "outputs": [],
   "source": [
    "function gdal_time()\n",
    "    AG.registerdrivers() do\n",
    "        AG.read(\"...\") do dataset\n",
    "            band1 = AG.getband(dataset,1)\n",
    "            new1 = AG.read(band1)\n",
    "        end\n",
    "    end\n",
    "end;"
   ]
  },
  {
   "cell_type": "code",
   "execution_count": 4,
   "metadata": {},
   "outputs": [
    {
     "name": "stdout",
     "output_type": "stream",
     "text": [
      "\n",
      "##### NetCDF File #####\n",
      "\n",
      "/home/drew/Desktop/stuff/berk/research/projects/seasonality/data/SIF/tropomi/fluo.gps.caltech.edu/data/tropomi/gridded/TROPO_SIF_07-2018.nc\n",
      "\n",
      "##### Dimensions #####\n",
      "\n",
      "Name                                                Length                    \n",
      "--------------------------------------------------------------------------------\n",
      "lat                                                 900                       \n",
      "time                                                31                        \n",
      "lon                                                 1800                      \n",
      "\n",
      "##### Variables #####\n",
      "\n",
      "Name                            Type            Dimensions                      \n",
      "--------------------------------------------------------------------------------\n",
      "lat                             DOUBLE          lat                             \n",
      "dcSIF                           FLOAT           lon lat time                    \n",
      "time                            DOUBLE          time                            \n",
      "relSIF                          FLOAT           lon lat time                    \n",
      "lon                             DOUBLE          lon                             \n",
      "dcSIF_err                       FLOAT           lon lat time                    \n",
      "n_meas                          INT             lon lat time                    \n",
      "SIF                             FLOAT           lon lat time                    \n",
      "SIF_err                         FLOAT           lon lat time                    \n",
      "cont                            FLOAT           lon lat time                    \n",
      "relSIF_err                      FLOAT           lon lat time                    \n",
      "\n",
      "##### Attributes #####\n",
      "\n",
      "Variable            Name                Value                                   \n",
      "--------------------------------------------------------------------------------\n",
      "lat                 units               degrees                                 \n",
      "lat                 long_name           lat                                     \n",
      "dcSIF               units               mW/m^2/sr/nm                            \n",
      "dcSIF               long_name           length-of-day corrected SIF             \n",
      "dcSIF               _FillValue          -999.0                                  \n",
      "time                units               days since 1970-01-01                   \n",
      "time                long_name           time                                    \n",
      "relSIF              units               %                                       \n",
      "relSIF              long_name           relative SIF wrt to continuum level     \n",
      "relSIF              _FillValue          -999.0                                  \n",
      "lon                 units               degrees                                 \n",
      "lon                 long_name           lon                                     \n",
      "dcSIF_err           units               mW/m^2/sr/nm                            \n",
      "dcSIF_err           long_name           length-of-day corrected SIF error       \n",
      "dcSIF_err           _FillValue          -999.0                                  \n",
      "n_meas              units                                                       \n",
      "n_meas              long_name           number of measurements per grid cell    \n",
      "n_meas              _FillValue          -999                                    \n",
      "SIF                 units               mW/m^2/sr/nm                            \n",
      "SIF                 long_name           instantaneous SIF                       \n",
      "SIF                 _FillValue          -999.0                                  \n",
      "SIF_err             units               mW/m^2/sr/nm                            \n",
      "SIF_err             long_name           instantaneous SIF error                 \n",
      "SIF_err             _FillValue          -999.0                                  \n",
      "cont                units               mW/m^2/sr/nm                            \n",
      "cont                long_name           continuum level radiance                \n",
      "cont                _FillValue          -999.0                                  \n",
      "relSIF_err          units               %                                       \n",
      "relSIF_err          long_name           relative SIF wrt to continuum level er..\n",
      "relSIF_err          _FillValue          -999.0                                  \n"
     ]
    }
   ],
   "source": [
    "filename = \"../data/SIF/tropomi/fluo.gps.caltech.edu/data/tropomi/gridded/TROPO_SIF_07-2018.nc\"\n",
    "ncinfo(filename)"
   ]
  },
  {
   "cell_type": "code",
   "execution_count": 5,
   "metadata": {},
   "outputs": [],
   "source": [
    "lon = ncread(filename, \"lon\")\n",
    "lat = ncread(filename, \"lat\")\n",
    "sif = ncread(filename, \"dcSIF\");"
   ]
  },
  {
   "cell_type": "code",
   "execution_count": 6,
   "metadata": {},
   "outputs": [],
   "source": [
    "sif[sif .== -999] .= NaN;"
   ]
  },
  {
   "cell_type": "code",
   "execution_count": 7,
   "metadata": {},
   "outputs": [],
   "source": [
    "#view just 25th day\n",
    "imgsif = imshow(PermutedDimsArray(sif[:, end:-1:1, 25], [2,1]), cmap=\"rainbow\");"
   ]
  },
  {
   "cell_type": "code",
   "execution_count": 8,
   "metadata": {},
   "outputs": [
    {
     "data": {
      "text/plain": [
       "Dict{String,Any} with 4 entries:\n",
       "  \"gui\"         => Dict{String,Any}(\"window\"=>GtkWindowLeaf(name=\"\", parent, wi…\n",
       "  \"roi\"         => Dict{String,Any}(\"redraw\"=>92: \"map(clim-mapped image, input…\n",
       "  \"annotations\" => 41: \"input-15\" = Dict{UInt64,Any}() Dict{UInt64,Any} \n",
       "  \"clim\"        => 40: \"CLim\" = CLim{Float32}(-2.1502, 2.3666) CLim{Float32} "
      ]
     },
     "execution_count": 8,
     "metadata": {},
     "output_type": "execute_result"
    }
   ],
   "source": [
    "#make video viewer of all 31 days\n",
    "imshow(PermutedDimsArray(sif[:, end:-1:1, :], [2, 1, 3]))"
   ]
  },
  {
   "cell_type": "code",
   "execution_count": null,
   "metadata": {},
   "outputs": [],
   "source": []
  }
 ],
 "metadata": {
  "kernelspec": {
   "display_name": "Julia 1.2.0",
   "language": "julia",
   "name": "julia-1.2"
  },
  "language_info": {
   "file_extension": ".jl",
   "mimetype": "application/julia",
   "name": "julia",
   "version": "1.4.0"
  }
 },
 "nbformat": 4,
 "nbformat_minor": 2
}
