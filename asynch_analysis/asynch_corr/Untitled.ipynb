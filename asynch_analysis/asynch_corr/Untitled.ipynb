{
 "cells": [
  {
   "cell_type": "code",
   "execution_count": 3,
   "id": "latest-milwaukee",
   "metadata": {},
   "outputs": [],
   "source": [
    "import numpy as np\n",
    "import rasterio as rio\n",
    "from rasterio.crs import CRS\n",
    "import rioxarray as rxr\n",
    "import geopandas as gpd\n",
    "import matplotlib.pyplot as plt\n",
    "import geemap\n",
    "import ee\n",
    "ee.Initialize()"
   ]
  },
  {
   "cell_type": "code",
   "execution_count": 4,
   "id": "interpreted-cycle",
   "metadata": {
    "scrolled": true
   },
   "outputs": [
    {
     "data": {
      "application/vnd.jupyter.widget-view+json": {
       "model_id": "1e2a72f068514610ba4f6aa52ab5436a",
       "version_major": 2,
       "version_minor": 0
      },
      "text/plain": [
       "HBox(children=(VBox(), VBox()))"
      ]
     },
     "metadata": {},
     "output_type": "display_data"
    }
   ],
   "source": [
    "geemap.ee_search()"
   ]
  },
  {
   "cell_type": "code",
   "execution_count": 5,
   "id": "healthy-fishing",
   "metadata": {},
   "outputs": [
    {
     "data": {
      "application/vnd.jupyter.widget-view+json": {
       "model_id": "32857f9465264ef6a0edc6c94d6cd334",
       "version_major": 2,
       "version_minor": 0
      },
      "text/plain": [
       "Map(center=[-13, -60], controls=(WidgetControl(options=['position', 'transparent_bg'], widget=HBox(children=(T…"
      ]
     },
     "metadata": {},
     "output_type": "display_data"
    }
   ],
   "source": [
    "Map = geemap.Map(center=[-13,-60], zoom=4)\n",
    "Map"
   ]
  },
  {
   "cell_type": "code",
   "execution_count": null,
   "id": "prepared-explosion",
   "metadata": {},
   "outputs": [],
   "source": [
    "# load the variables\n",
    "\n",
    "\n",
    "data_dir = \"/home/deth/Desktop/UCB/research/projects/seasonality/seasonal_asynchrony/asynch_analysis/data/\"\n",
    "asynch = rio.open(data_dir + '/global_asynch_result.tif')\n",
    "vrm = rio.open(data_dir + 'vrm_10kmneigh_reproj_export.tif')\n",
    "alt = rio.open(data_dir + 'alt_SRTM_reproj_export.tif')\n",
    "countries = gpd.read_file(data_dir + 'countries/countries.shp')\n",
    "\n",
    "# load the spatial data, transforming everything to Equal Earth\n",
    "\n",
    "\n",
    "latlon = brick('./lonlat_export.tif')\n",
    "alt = raster('./alt_SRTM_reproj_export.tif')\n",
    "\n",
    "# mask out the oceans and other spots\n",
    "vrm = mask(vrm, asynch[['asynch']])\n",
    "latlon = mask(latlon, asynch[['asynch']])\n",
    "alt = mask(alt, asynch[['asynch']])\n",
    "\n",
    "# gather into a stack\n",
    "vars = stack(asynch, latlon, alt, vrm)\n",
    "\n",
    "# need to reproj?\n",
    "\n",
    "# get sample points\n",
    "pts = st_as_sf(spsample(as_Spatial(countries), n=1000, type='hexagonal'))\n",
    "\n",
    "# coerce to a data.frame\n",
    "df <- data.frame(na.omit(values(vars)))\n",
    "colnames(df) = c('asynch', 'n', 'R2', 'lon', 'lat', 'alt', 'vrm')\n",
    "head(df)\n",
    "\n",
    "# non-spatial global regression\n",
    "mod = lm(asynch ~ lon + lat + alt + vrm + alt*lat + vrm*lat, data=df)\n",
    "summary(mod)\n",
    "\n",
    "# NOTE: definitely need to account for spatial autocorrelation\n",
    "# map residuals\n",
    "map_resids = function(mod, df){\n",
    "    resids = residuals(mod)\n",
    "    breaks <- c(min(resids), min(resids)/3, 0, max(resids)/3, max(resids))  \n",
    "    BlueRed <- colorRampPalette(c(\"darkblue\", \"white\", \"darkred\"))\n",
    "    map.resids <- SpatialPointsDataFrame(data=data.frame(resids), coords=cbind(df$lon,df$lat))\n",
    "    map.resids <- st_as_sf(data.frame(resids=resids, lon=df$lon, lat=df$lat), coords=c('lon', 'lat'), crs=4326)\n",
    "    print(map.resids)\n",
    "    tm_shape(map.resids) + tm_dots(col='resids', size=0.5)\n",
    "    #spplot(map.resids, cuts=breaks, col.regions=BlueRed(5), cex=1) \n",
    "}\n",
    "\n",
    "map_resids(mod, df)\n",
    "    \n",
    "# NOTE: HOW TO RUN THIS FOR FULL DATASET?\n",
    "# set row-step for subsetting df (for now)\n",
    "step = 100\n",
    "subdf = df[seq(1,nrow(df),step),]\n",
    "\n",
    "# define the formula\n",
    "formula = asynch ~ lon + lat + alt + vrm + alt*lat + vrm*lat\n",
    "\n",
    "# build a null model\n",
    "gls.null = gls(formula, data=subdf, method='ML')\n",
    "\n",
    "# then build with spatial covariance structures\n",
    "gls.gau = gls(formula, correlation=corGaus(form = ~ lat + lon, nugget=T),\n",
    "              method='ML', data=subdf)\n",
    "\n",
    "gls.sph = gls(formula, correlation=corSpher(form = ~ lat + lon, nugget=T),\n",
    "              method='ML', data=subdf)\n",
    "\n",
    "summary(gls.null)\n",
    "map_resids(gls.null, subdf)\n",
    "\n",
    "summary(gls.gau)\n",
    "map_resids(gls.gau, subdf)\n",
    "\n",
    "summary(gls.sph)\n",
    "map_resids(gls.sph, df)\n",
    "\n",
    "\n",
    "\n",
    "########################\n",
    "# random forest modeling\n",
    "\n",
    "# create explicit interaction var\n",
    "df$vrm.x.lat = df$vrm * df$lat\n",
    "\n",
    "# get training and test data\n",
    "train_frac = 0.01\n",
    "indices = sample(1:nrow(df), size = round(train_frac * nrow(df)))\n",
    "trn = df[indices,]\n",
    "tst = df[-indices,]\n",
    "\n",
    "# set formula for RF\n",
    "formrf = asynch ~ lon + lat + alt + vrm\n",
    "\n",
    "# build the model\n",
    "rf = randomForest(formrf, data=trn,\n",
    "                  ntree=500, mtry=2, importance=TRUE)\n",
    "\n",
    "# take a look at the result\n",
    "varImpPlot(rf)\n",
    "\n",
    "# make predictions\n",
    "preds = predict(rf, tst[,-c(1,2,3)])\n",
    "tst$err = tst[,1] - preds\n",
    "\n",
    "ggplot(tst) +\n",
    "    geom_point(aes(x=lon, y=lat, col=err), size=1) +\n",
    "    #scale_color_gradientn(colours=wes_palette(\"Zissou1\", 50, type='continuous'))\n",
    "    scale_color_gradient2(low='#cc003d', mid='#dbdbdb', high='#009e64') +\n",
    "    coord_map() + \n",
    "    theme_bw()\n",
    "\n",
    "# make predicitons for full dataset (to map as raster)\n",
    "full_preds = predict(rf, df[,-c(1,2,3)])\n",
    "df$preds = full_preds\n",
    "df$err = df[,1] - full_preds\n",
    "dfrast <- rasterFromXYZ(df[, c('lon', 'lat', 'err')])\n",
    "re_df = as.data.frame(dfrast, xy=T)\n",
    "colnames(re_df) = c('lon', 'lat', 'error')\n",
    "\n",
    "out = ggplot() +\n",
    "        geom_raster(data=re_df, aes(x=lon, y=lat, fill=error)) +\n",
    "        #scale_fill_gradient2(low='#940500', mid='#f5f5f5', high='#00138f') +\n",
    "        scale_fill_cmocean(name='curl', direction=-1, end = 0.68) + \n",
    "        coord_quickmap() +\n",
    "        theme_bw() +\n",
    "        theme(legend.key.size = unit(4, 'cm'),\n",
    "              legend.key.width = unit(3, 'cm'),\n",
    "              legend.text = element_text(size=13),\n",
    "              legend.title = element_text(size=16))\n",
    "out\n",
    "\n",
    "ggsave(out, file='rf_pred_error_map.png', width=35, height=45, units='cm', dpi=1000)\n",
    "\n",
    "\n",
    "# run same model but with the explcit interaction term\n",
    "formrf2 = asynch ~ lon + lat + alt + vrm + vrm.x.lat\n",
    "rf2 = randomForest(formrf2, data=trn,\n",
    "                   ntree=500, mtry=2, importance=TRUE)\n",
    "varImpPlot(rf2)\n",
    "preds2 = predict(rf2, tst[,-c(1,2,3)])\n",
    "tst$err2 = tst[,1] - preds2\n",
    "ggplot(tst) +\n",
    "    geom_point(aes(x=lon, y=lat, col=err2), size=1) +\n",
    "    #scale_color_gradientn(colours=wes_palette(\"Zissou1\", 50, type='continuous'))\n",
    "    scale_color_gradient2(low='red', mid='white', high='blue')"
   ]
  }
 ],
 "metadata": {
  "kernelspec": {
   "display_name": "Python 3",
   "language": "python",
   "name": "python3"
  },
  "language_info": {
   "codemirror_mode": {
    "name": "ipython",
    "version": 3
   },
   "file_extension": ".py",
   "mimetype": "text/x-python",
   "name": "python",
   "nbconvert_exporter": "python",
   "pygments_lexer": "ipython3",
   "version": "3.7.10"
  }
 },
 "nbformat": 4,
 "nbformat_minor": 5
}
